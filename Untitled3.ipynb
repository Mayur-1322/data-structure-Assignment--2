{
  "nbformat": 4,
  "nbformat_minor": 0,
  "metadata": {
    "colab": {
      "provenance": []
    },
    "kernelspec": {
      "name": "python3",
      "display_name": "Python 3"
    },
    "language_info": {
      "name": "python"
    }
  },
  "cells": [
    {
      "cell_type": "markdown",
      "source": [
        "PYTHON ASSIGNMENT -2 ( DATA STRUCTURE)"
      ],
      "metadata": {
        "id": "EuS8KGVG8Q1q"
      }
    },
    {
      "cell_type": "markdown",
      "source": [
        "1.Discuss string slicing and provide examples\n",
        "\n",
        "Ans :-"
      ],
      "metadata": {
        "id": "mZvQGK37GEG8"
      }
    },
    {
      "cell_type": "markdown",
      "source": [
        "\n",
        "        string slicing is a operation is can held on main string and taken as substring from main string and can be done using square bracket operator[] slicing operation index start from 0 and it is inclusive and till last character that is exclusive\n",
        "        "
      ],
      "metadata": {
        "id": "TqD8yHrRGRJy"
      }
    },
    {
      "cell_type": "markdown",
      "source": [
        "a = \"Mayurpawar\"\n",
        "a[0]"
      ],
      "metadata": {
        "id": "Z1Pv3ia1LEnx"
      }
    },
    {
      "cell_type": "code",
      "source": [
        "a = \"Mayurpawar\"\n",
        "a[0]\n",
        "#to print full string\n",
        "a[0::]\n",
        "#to reverse string\n",
        "a[::-1]\n",
        "#to slice upto ramesh\n",
        "a[0:6]\n",
        "\n",
        "#to slice one more one 2x\n",
        "a[0::2]"
      ],
      "metadata": {
        "colab": {
          "base_uri": "https://localhost:8080/",
          "height": 36
        },
        "id": "zzl1JrBULNHB",
        "outputId": "2b014874-6865-49f4-d386-7db022d76a40"
      },
      "execution_count": 1,
      "outputs": [
        {
          "output_type": "execute_result",
          "data": {
            "text/plain": [
              "'Myraa'"
            ],
            "application/vnd.google.colaboratory.intrinsic+json": {
              "type": "string"
            }
          },
          "metadata": {},
          "execution_count": 1
        }
      ]
    },
    {
      "cell_type": "markdown",
      "source": [
        "\n",
        "  "
      ],
      "metadata": {
        "id": "TxnRpc9uMXYg"
      }
    },
    {
      "cell_type": "markdown",
      "source": [
        "2.KEY FEATURES OF LIST IN PYTHON\n",
        "\n",
        "ANS:-\n",
        "\n",
        "  1. List is mutable\n",
        "  2. List is an data structure\n",
        "  3. list can be done using [] brackets\n",
        "  4. list is an ordered collection of data\n",
        "  5. list can store any data type\n",
        "  6. list can support append objects\n",
        "  7. List data structure can be used in groceries to buy more than one item/element\n",
        "  8. list is an ordered pairs\n",
        "  9. List is seperated by commas\n",
        "  10. list can store multiple data types\n",
        "\n",
        "  This all are the feature of list in python\n",
        "\n",
        "\n",
        "\n",
        "  "
      ],
      "metadata": {
        "id": "3hvgi2pk9iYz"
      }
    },
    {
      "cell_type": "markdown",
      "source": [
        "3.Describe how to access, modify, and delete elements in a list with examples.\n",
        "\n",
        "ANS;-"
      ],
      "metadata": {
        "id": "fCD1khVoNUFS"
      }
    },
    {
      "cell_type": "markdown",
      "source": [
        "    list is mutable means it can modify and a varaible and use more than same element and store in blocks of data with index values\n",
        "    let me see how can we access , modify , and delete list in python\n",
        "\n",
        "    "
      ],
      "metadata": {
        "id": "xY2JCB7tNf6u"
      }
    },
    {
      "cell_type": "markdown",
      "source": [
        "(i) accessing a list ;-"
      ],
      "metadata": {
        "id": "ivkv9hszN0N4"
      }
    },
    {
      "cell_type": "code",
      "source": [
        "a =[\"python\",\"java\",\"c++\",\"html\"]\n",
        "# let access the list by using their index and index starts with 0\n",
        "a[0]\n",
        "#if we want to access list java then\n",
        "a[1]\n",
        "\n",
        "#we can also access a list of all items using loops\n",
        "\n",
        "for i in a:\n",
        "  print(i, end = \" \")"
      ],
      "metadata": {
        "colab": {
          "base_uri": "https://localhost:8080/"
        },
        "id": "A5j9rmGfN-aQ",
        "outputId": "8fed4b8b-553c-46b1-cbe9-414395623950"
      },
      "execution_count": 4,
      "outputs": [
        {
          "output_type": "stream",
          "name": "stdout",
          "text": [
            "python java c++ html "
          ]
        }
      ]
    },
    {
      "cell_type": "markdown",
      "source": [],
      "metadata": {
        "id": "wj3NxXB2-eEp"
      }
    },
    {
      "cell_type": "markdown",
      "source": [
        "(ii)  MODIFYING THE EXISTING LIST"
      ],
      "metadata": {
        "id": "7K-WG2GIO4xy"
      }
    },
    {
      "cell_type": "code",
      "source": [
        "#we can add a element in list using append() and it can store the element at the end of the list\n",
        "a.append(\"javascript\")\n",
        "print(a)"
      ],
      "metadata": {
        "colab": {
          "base_uri": "https://localhost:8080/"
        },
        "collapsed": true,
        "id": "-1KTUWoAP3OO",
        "outputId": "202a2c68-536c-4cc8-d2eb-46b8ba14c286"
      },
      "execution_count": 5,
      "outputs": [
        {
          "output_type": "stream",
          "name": "stdout",
          "text": [
            "['python', 'java', 'c++', 'html', 'javascript']\n"
          ]
        }
      ]
    },
    {
      "cell_type": "code",
      "source": [
        "#We can also add a element in list by their excat index value accurate position where we want to store"
      ],
      "metadata": {
        "id": "bgjjwsf9QNCI"
      },
      "execution_count": null,
      "outputs": []
    },
    {
      "cell_type": "code",
      "source": [
        " r = [\"ramesh\",\"anu\",\"aanchal\",\"neha\"]\n",
        "\n",
        " r.insert(1,\"neetu\")\n",
        " r\n",
        " #using insert function we can add any element where we want to store by using index\n",
        "\n",
        "\n"
      ],
      "metadata": {
        "colab": {
          "base_uri": "https://localhost:8080/"
        },
        "id": "24Vb6PtBQdSv",
        "outputId": "d9017169-d86e-4cf2-c41a-8c8885fbab88"
      },
      "execution_count": 6,
      "outputs": [
        {
          "output_type": "execute_result",
          "data": {
            "text/plain": [
              "['ramesh', 'neetu', 'anu', 'aanchal', 'neha']"
            ]
          },
          "metadata": {},
          "execution_count": 6
        }
      ]
    },
    {
      "cell_type": "markdown",
      "source": [
        "deleting single or list in python\n"
      ],
      "metadata": {
        "id": "hOqNT4J2Q63h"
      }
    },
    {
      "cell_type": "code",
      "source": [
        "r\n",
        "r.remove(\"neetu\")\n",
        "r\n",
        "#using remove function we can delete an element by using remove function with values"
      ],
      "metadata": {
        "colab": {
          "base_uri": "https://localhost:8080/"
        },
        "id": "2YwLkZ6HRK0w",
        "outputId": "a25b497f-8bed-4f54-d7fe-0e84f778e2c1"
      },
      "execution_count": 7,
      "outputs": [
        {
          "output_type": "execute_result",
          "data": {
            "text/plain": [
              "['ramesh', 'anu', 'aanchal', 'neha']"
            ]
          },
          "metadata": {},
          "execution_count": 7
        }
      ]
    },
    {
      "cell_type": "code",
      "source": [
        "#if we want to clear all items list by using clear()\n",
        "r.clear()\n",
        "r#it will give empty list\n",
        "del r\n",
        "#using this we can delete an entire list\n",
        "r #after deleting list we cannot access that list and if we try that will throw an erro"
      ],
      "metadata": {
        "colab": {
          "base_uri": "https://localhost:8080/",
          "height": 211
        },
        "collapsed": true,
        "id": "njCBZUYFRrXP",
        "outputId": "18f771b6-cc8e-4d9b-94f4-3eb6330c5efc"
      },
      "execution_count": null,
      "outputs": [
        {
          "output_type": "error",
          "ename": "NameError",
          "evalue": "name 'r' is not defined",
          "traceback": [
            "\u001b[0;31m---------------------------------------------------------------------------\u001b[0m",
            "\u001b[0;31mNameError\u001b[0m                                 Traceback (most recent call last)",
            "\u001b[0;32m<ipython-input-37-6c732416c514>\u001b[0m in \u001b[0;36m<cell line: 2>\u001b[0;34m()\u001b[0m\n\u001b[1;32m      1\u001b[0m \u001b[0;31m#if we want to clear all items list by using clear()\u001b[0m\u001b[0;34m\u001b[0m\u001b[0;34m\u001b[0m\u001b[0m\n\u001b[0;32m----> 2\u001b[0;31m \u001b[0mr\u001b[0m\u001b[0;34m.\u001b[0m\u001b[0mclear\u001b[0m\u001b[0;34m(\u001b[0m\u001b[0;34m)\u001b[0m\u001b[0;34m\u001b[0m\u001b[0;34m\u001b[0m\u001b[0m\n\u001b[0m\u001b[1;32m      3\u001b[0m \u001b[0mr\u001b[0m\u001b[0;31m#it will give empty list\u001b[0m\u001b[0;34m\u001b[0m\u001b[0;34m\u001b[0m\u001b[0m\n\u001b[1;32m      4\u001b[0m \u001b[0;32mdel\u001b[0m \u001b[0mr\u001b[0m\u001b[0;34m\u001b[0m\u001b[0;34m\u001b[0m\u001b[0m\n\u001b[1;32m      5\u001b[0m \u001b[0;31m#using this we can delete an entire list\u001b[0m\u001b[0;34m\u001b[0m\u001b[0;34m\u001b[0m\u001b[0m\n",
            "\u001b[0;31mNameError\u001b[0m: name 'r' is not defined"
          ]
        }
      ]
    },
    {
      "cell_type": "markdown",
      "source": [
        "4.Compare and contrast tuples and lists with examples\n",
        "\n",
        "ANS:-\n"
      ],
      "metadata": {
        "id": "5ofWlfc2ShI2"
      }
    },
    {
      "cell_type": "markdown",
      "source": [
        "TUPLES                                                         LISTS **bold text**\n"
      ],
      "metadata": {
        "id": "G2Ag6Z7BSjlg"
      }
    },
    {
      "cell_type": "markdown",
      "source": [
        "TUPLES\n",
        "\n",
        "  1. Tuples are immutable\n",
        "  2. tules can be stored in paranthesis()\n",
        "  3. tuples can store multiple data type()\n",
        "  4. tuples are ordered collection of elements\n",
        "  5. Tuples are heterogeneous\n",
        "  6. tuples can be used in that database where you cannot want to modify data\n",
        "  7. nested tuples are supported in a tuple\n",
        "\n",
        "  "
      ],
      "metadata": {
        "id": "FxZwmamGSzKz"
      }
    },
    {
      "cell_type": "markdown",
      "source": [
        "list\n",
        "\n",
        "       Lists  are mutable\n",
        "       List  can be stored in square bracket[]\n",
        "       List can store multiple data type()\n",
        "      ***`List`*** are ordered collection of elements\n",
        "       List  are homogeneous\n",
        "       list can be used in that database where you  want to modify data\n",
        "       nested list  are supported in a list"
      ],
      "metadata": {
        "id": "j176T-v1TljM"
      }
    },
    {
      "cell_type": "markdown",
      "source": [
        "5. Describe the key features of sets and provide examples of their use\n",
        "\n",
        "ANS:-"
      ],
      "metadata": {
        "id": "qSJNFtKyUM46"
      }
    },
    {
      "cell_type": "markdown",
      "source": [
        "     1.sets are unordered collection of data\n",
        "     2. set give us unique data\n",
        "     3. sets are unsubcriptable\n",
        "     4. set can store data in curly braces{}\n",
        "     5. it does not give duplicate elements\n",
        "     6. set inside set is immutable"
      ],
      "metadata": {
        "id": "xC0n7BKcUmxm"
      }
    },
    {
      "cell_type": "code",
      "source": [
        "s = {\"ram\",\"ram\", 1,1,3,5,5,6,8}\n",
        "#it contains duplicate elements but when we try to execute it give unique elements\n",
        "s\n",
        "#duplicates are ignored by sets and gives unique elements"
      ],
      "metadata": {
        "colab": {
          "base_uri": "https://localhost:8080/"
        },
        "id": "MzhoRbE8VRKc",
        "outputId": "bfdf45c9-ec6e-4dd2-ebd2-53bd2e185017"
      },
      "execution_count": 9,
      "outputs": [
        {
          "output_type": "execute_result",
          "data": {
            "text/plain": [
              "{1, 3, 5, 6, 8, 'ram'}"
            ]
          },
          "metadata": {},
          "execution_count": 9
        }
      ]
    },
    {
      "cell_type": "markdown",
      "source": [],
      "metadata": {
        "id": "ZOeozNq1ArYz"
      }
    },
    {
      "cell_type": "markdown",
      "source": [
        "6.Discuss the use cases of tuples and sets in Python programming\n",
        "\n",
        "ANS:-"
      ],
      "metadata": {
        "id": "xLVTa0WYWVT_"
      }
    },
    {
      "cell_type": "markdown",
      "source": [
        "(i) use case of tuples\n",
        "       \n",
        "         Tuples used in the data structure where you dont want to modify data\n",
        "         they are immutable\n",
        "         tuples cannot modify but they can be modify with new tuple and store in a new tuple\n",
        "         tuples are a good data structure to store unmodified data\n",
        "\n",
        "         \n",
        "         "
      ],
      "metadata": {
        "id": "6n8Qv4kWX5eW"
      }
    },
    {
      "cell_type": "markdown",
      "source": [
        "(ii) USE CASE OF SET\n",
        "\n"
      ],
      "metadata": {
        "id": "zxXN7Vs3aE4A"
      }
    },
    {
      "cell_type": "markdown",
      "source": [
        " 1.sets are unordered collection of data\n",
        " 2. set give us unique data\n",
        " 3. sets are unsubcriptable\n",
        " 4. set can store data in curly braces{}\n",
        " 5. it does not give duplicate elements\n",
        " 6. set inside set is immutable\n",
        "\n",
        ""
      ],
      "metadata": {
        "id": "Wz8Z-QuMbLHN"
      }
    },
    {
      "cell_type": "markdown",
      "source": [
        " 7. Describe how to add, modify, and delete items in a dictionary with example\n",
        "\n",
        " ANS:-"
      ],
      "metadata": {
        "id": "bc6qKL65bTzL"
      }
    },
    {
      "cell_type": "code",
      "source": [
        "b  = {\"name\":\"Ajay\", \"email\":\"aj@gmail.com\", \"contact\": 1234}\n"
      ],
      "metadata": {
        "id": "Cg4_8AYgrnVJ"
      },
      "execution_count": null,
      "outputs": []
    },
    {
      "cell_type": "markdown",
      "source": [
        "in above a dictionary is created lets see how we can modify and add elements in dictionary"
      ],
      "metadata": {
        "id": "PN28LC63rq1x"
      }
    },
    {
      "cell_type": "code",
      "source": [
        "  b = {\"name\":\"ramesh \", \"email\":\"ram@gmail.com\", \"contact\": 93456}\n",
        "  # now we are going one new key with value\n",
        "  b[\"age\"] = 18   #add a new key with value\n",
        "  b"
      ],
      "metadata": {
        "colab": {
          "base_uri": "https://localhost:8080/"
        },
        "id": "qbnnDFbKsKAD",
        "outputId": "5b253c14-486e-41be-916e-afaf130e381c"
      },
      "execution_count": 10,
      "outputs": [
        {
          "output_type": "execute_result",
          "data": {
            "text/plain": [
              "{'name': 'ramesh ', 'email': 'ram@gmail.com', 'contact': 93456, 'age': 18}"
            ]
          },
          "metadata": {},
          "execution_count": 10
        }
      ]
    },
    {
      "cell_type": "markdown",
      "source": [
        "modifying existing dictionary"
      ],
      "metadata": {
        "id": "FxQaQ4V-tdOV"
      }
    },
    {
      "cell_type": "code",
      "source": [
        "b[\"name\"] = \"suresh \"\n",
        "b        #this is used to modify the element in dictionary\n",
        "\n",
        "#"
      ],
      "metadata": {
        "colab": {
          "base_uri": "https://localhost:8080/"
        },
        "id": "wJqd2xdHt1KN",
        "outputId": "a62d67ac-9bd6-48fe-e68f-4b107eb5e46c"
      },
      "execution_count": 12,
      "outputs": [
        {
          "output_type": "execute_result",
          "data": {
            "text/plain": [
              "{'name': 'suresh ', 'email': 'ram@gmail.com', 'contact': 93456, 'age': 18}"
            ]
          },
          "metadata": {},
          "execution_count": 12
        }
      ]
    },
    {
      "cell_type": "code",
      "source": [
        "#deleting elements in dictionary\n",
        "del b[\"name\"]\n",
        "b"
      ],
      "metadata": {
        "colab": {
          "base_uri": "https://localhost:8080/"
        },
        "id": "C5rX1BKRwpnB",
        "outputId": "73186031-ad2b-42cf-a29b-cb0bd5abc090"
      },
      "execution_count": null,
      "outputs": [
        {
          "output_type": "execute_result",
          "data": {
            "text/plain": [
              "{'email': 'ram@gmail.com', 'contact': 93456, 'age': 18}"
            ]
          },
          "metadata": {},
          "execution_count": 42
        }
      ]
    },
    {
      "cell_type": "markdown",
      "source": [
        "8. Discuss the importance of dictionary keys being immutable and provide\n",
        "\n",
        "ANS:-"
      ],
      "metadata": {
        "id": "zcaxd_GExR94"
      }
    },
    {
      "cell_type": "markdown",
      "source": [
        "Importance of keys in dictionary\n",
        "         \n",
        "          keys are immutable in python\n",
        "          keys in python used to access the value that is paired with key\n",
        "          keys are unique and not defined using same variable\n",
        "          keys are displaying the object that is associated with variable\n",
        "          \n",
        "\n",
        "          "
      ],
      "metadata": {
        "id": "qx0gJ7MUxb_B"
      }
    },
    {
      "cell_type": "markdown",
      "source": [
        "use case\n",
        "    sets can be used in that area where duplicate not allowed\n",
        "    example\n",
        "     employee id\n",
        "     roll number\n",
        "     aadhar number etc"
      ],
      "metadata": {
        "id": "KrJGW3BdTio6"
      }
    }
  ]
}